{
 "cells": [
  {
   "cell_type": "markdown",
   "id": "living-savannah",
   "metadata": {},
   "source": [
    "<h1>Assignment 3</h1>"
   ]
  },
  {
   "cell_type": "markdown",
   "id": "varied-ceramic",
   "metadata": {},
   "source": [
    "\n",
    "<h2>About Flow Control</h2>\n",
    "<h3>What is flow control?</h3>\n"
   ]
  },
  {
   "cell_type": "markdown",
   "id": "after-grounds",
   "metadata": {},
   "source": [
    "<p>A program's control flow is the order in which the program's code executes. The control flow of a Python program is regulated by conditional statements, loops, and function calls.</p>"
   ]
  },
  {
   "cell_type": "markdown",
   "id": "broke-throat",
   "metadata": {},
   "source": [
    "<h3>List all flow control with example</h3>\n"
   ]
  },
  {
   "cell_type": "markdown",
   "id": "alone-contract",
   "metadata": {},
   "source": [
    "<h4>Sequential - default mode</h4>\n",
    "<p>Sequential statements are a set of statements whose execution process happens in a sequence. The problem with sequential statements is that if the logic has broken in any one of the lines, then the complete source code execution will break.</p>\n",
    "</br>\n",
    "<h4>Selection - used for decisions and branching</h4>\n",
    "<ul>\n",
    "    <li>Simple if</li>\n",
    "    <li>if-else</li>\n",
    "    <li>nested if</li>\n",
    "    <li>if-elif-else</li>\n",
    "    \n",
    "</ul>\n",
    "<h4>Repetition - used for looping,repeating a piece of code multiple times.</h4>\n",
    "<ul>\n",
    "    <li>for loop</li>\n",
    "    <li>while loop</li>\n",
    "</ul>"
   ]
  },
  {
   "cell_type": "markdown",
   "id": "relevant-circus",
   "metadata": {},
   "source": [
    "<h2>Conditional statement</h2>\n",
    "<h3>What is conditional statement</h3>\n"
   ]
  },
  {
   "cell_type": "markdown",
   "id": "precise-hamburg",
   "metadata": {},
   "source": [
    "<h3>Describe structure of conditional statement</h3>"
   ]
  },
  {
   "cell_type": "markdown",
   "id": "aggressive-tyler",
   "metadata": {},
   "source": [
    "<p>Conditional Statement in Python perform different computations or actions depending on whether a specific Boolean constraint evaluates to true or false. Conditional statements are handled by if, else and elif statements in Python.</p>\n",
    "<p>Python if Statement is used for decision-making operations. It contains a body of code which runs only when the condition given in the if statement is true. If the condition is false, then the optional else statement runs which contains some code for the else condition.\n",
    "</p>\n",
    "<p>The \"else condition\" is usually used when you have to judge one statement on the basis of other. If one condition goes wrong, then there should be another condition that should justify the statement or logic.</p>\n",
    "<!-- <p></p> -->"
   ]
  },
  {
   "cell_type": "markdown",
   "id": "thirty-salmon",
   "metadata": {},
   "source": [
    "<h2>Problem 1</h2>\n",
    "<h3>Take input from a user and check whether the number is odd or even?</h3>\n"
   ]
  },
  {
   "cell_type": "code",
   "execution_count": 2,
   "id": "better-russell",
   "metadata": {},
   "outputs": [
    {
     "name": "stdout",
     "output_type": "stream",
     "text": [
      "Enter a number: 6\n",
      "The number is Even number\n"
     ]
    }
   ],
   "source": [
    "a = int(input(\"Enter a number: \"))  \n",
    "if (a % 2) == 0:  \n",
    "   print(\"The number is Even number\")  \n",
    "else:  \n",
    "   print(\"The number is Odd number\")  \n"
   ]
  },
  {
   "cell_type": "markdown",
   "id": "seventh-function",
   "metadata": {},
   "source": [
    "<h2>Problem 2</h2>\n",
    "<h3>Take integer input from user, say a-</h3>\n",
    "</br>\n",
    "<p>1.Print number of sample, if 100 < = a < 200 , and a is divisible by 9</p>\n",
    "</br>\n",
    "<p>2.Display those numbers which are divisible by 7 and multiple of 5, between 500\n",
    "and 100</p>\n",
    "\n"
   ]
  },
  {
   "cell_type": "code",
   "execution_count": 3,
   "id": "printable-thompson",
   "metadata": {},
   "outputs": [
    {
     "name": "stdout",
     "output_type": "stream",
     "text": [
      "Enter a number: 135\n",
      "Your number is ok\n"
     ]
    }
   ],
   "source": [
    "x = int(input(\"Enter a number: \"))\n",
    "if (x >= 100 or x < 200 and x%9 == 0):\n",
    "    print('Your number is ok')"
   ]
  },
  {
   "cell_type": "code",
   "execution_count": 4,
   "id": "developmental-discussion",
   "metadata": {},
   "outputs": [
    {
     "name": "stdout",
     "output_type": "stream",
     "text": [
      "Enter a number: 175\n",
      "Your number is ok\n"
     ]
    }
   ],
   "source": [
    "x = int(input(\"Enter a number: \"))\n",
    "if (100 <= x <= 500 and x%7 == 0 and x%5 ==0):\n",
    "    print('Your number is ok')"
   ]
  },
  {
   "cell_type": "markdown",
   "id": "decreased-incidence",
   "metadata": {},
   "source": [
    "<h2>Problem 3</h2>\n",
    "<h3>Take year as a integer input from a user,check whether the year is leap year or not?</h3>"
   ]
  },
  {
   "cell_type": "code",
   "execution_count": 2,
   "id": "instant-disease",
   "metadata": {},
   "outputs": [
    {
     "name": "stdout",
     "output_type": "stream",
     "text": [
      "Enter year:2022\n",
      "The year is not a leap year\n"
     ]
    }
   ],
   "source": [
    "year=int(input(\"Enter year:\"))\n",
    "if(year % 4 == 0 and year % 100!=0 or year % 400 == 0):\n",
    "    print(\"The year is a leap year\")\n",
    "else:\n",
    "    print(\"The year is not a leap year\")"
   ]
  },
  {
   "cell_type": "markdown",
   "id": "younger-klein",
   "metadata": {},
   "source": [
    "<h2>Problem 4</h2>\n",
    "<h3>Make a simple calculator (function : +, -, * and /)</h3>\n",
    "<ul>\n",
    "    <li>Take three input from a user, say, input1, input2, input3</li>\n",
    "    <li>input 1 represents arithmetic sign ( +, -, * and /)</li>\n",
    "    <li>Input 2 and input 3 represent number</li>\n",
    "    <li>Display arithmetic output of input 2 and input 3 based on input 1</li>\n",
    "</ul>"
   ]
  },
  {
   "cell_type": "code",
   "execution_count": 12,
   "id": "outer-weather",
   "metadata": {},
   "outputs": [
    {
     "name": "stdout",
     "output_type": "stream",
     "text": [
      "Enter a number greater than 1: 8\n",
      "Enter a number greater than 1: 9\n",
      "Choose a math operation (+, -, *, //): -\n",
      "-1\n"
     ]
    }
   ],
   "source": [
    "num1 = int(input(\"Enter a number greater than 1: \"))\n",
    "num2 = int(input(\"Enter a number greater than 1: \"))\n",
    "oper = input(\"Choose a math operation (+, -, *, //): \")\n",
    "if oper == \"+\":\n",
    "       print(num1 + num2)\n",
    "elif oper == \"-\":\n",
    "       print (num1 - num2)\n",
    "elif oper == \"*\":\n",
    "       print (num1 * num2)\n",
    "elif oper == \"//\":\n",
    "        print(num1 / num2)"
   ]
  },
  {
   "cell_type": "markdown",
   "id": "reduced-cycling",
   "metadata": {},
   "source": [
    "<h2>Problem 5</h2>\n",
    "<h3>Take a number from a user, check if the number is positive or negative or zero\n",
    "and display an appropriate message</h3>"
   ]
  },
  {
   "cell_type": "code",
   "execution_count": 29,
   "id": "whole-gospel",
   "metadata": {},
   "outputs": [
    {
     "name": "stdout",
     "output_type": "stream",
     "text": [
      "Enter a number: -3\n",
      "Your Number is negative\n"
     ]
    }
   ],
   "source": [
    "x = int(input(\"Enter a number: \"))\n",
    "if x > 0:\n",
    "    print('Your Number is positive')\n",
    "elif x < 0:\n",
    "    print('Your Number is negative')\n",
    "elif x == 0:\n",
    "    print('You entered a zero')"
   ]
  },
  {
   "cell_type": "markdown",
   "id": "specific-enzyme",
   "metadata": {},
   "source": [
    "<h2>Problem 6</h2>\n",
    "<h3>Take values of length and breadth of a rectangle from a user and check if it is\n",
    "square or not.</h3>"
   ]
  },
  {
   "cell_type": "code",
   "execution_count": 26,
   "id": "infectious-peeing",
   "metadata": {},
   "outputs": [
    {
     "name": "stdout",
     "output_type": "stream",
     "text": [
      "Enter a length of a rectangular: 3\n",
      "Enter a breadth of a rectangular: 3\n",
      "It's a square\n"
     ]
    }
   ],
   "source": [
    "length = int(input(\"Enter a length of a rectangular: \"))\n",
    "breadth = int(input(\"Enter a breadth of a rectangular: \"))\n",
    "if length == breadth:\n",
    "    print(\"It's a square\")\n",
    "else: \n",
    "    print(\"It's a rectangular\")"
   ]
  },
  {
   "cell_type": "markdown",
   "id": "honey-jewelry",
   "metadata": {},
   "source": [
    "<h2>Problem 7</h2>\n",
    "<h3>Take three int values from a user and display the highest and lowest number\n",
    "among them.</h3>"
   ]
  },
  {
   "cell_type": "code",
   "execution_count": 27,
   "id": "united-privilege",
   "metadata": {},
   "outputs": [
    {
     "name": "stdout",
     "output_type": "stream",
     "text": [
      "Enter first number: 45\n",
      "Enter second number: 67\n",
      "Enter third number: 8\n",
      "The largest number is 67\n"
     ]
    }
   ],
   "source": [
    "num1 = int(input(\"Enter first number: \"))\n",
    "num2 = int(input(\"Enter second number: \"))\n",
    "num3 = int(input(\"Enter third number: \"))\n",
    "\n",
    "if (num1 >= num2) and (num1 >= num3):\n",
    "   largest = num1\n",
    "elif (num2 >= num1) and (num2 >= num3):\n",
    "   largest = num2\n",
    "else:\n",
    "   largest = num3\n",
    "\n",
    "print(\"The largest number is\", largest)"
   ]
  },
  {
   "cell_type": "markdown",
   "id": "typical-plastic",
   "metadata": {},
   "source": [
    "<h2>Problem 8</h2>\n",
    "<h3>Ask a user to enter marks and print the corresponding grade.</h3>\n",
    "<p>Hints</p>\n",
    "<ul>\n",
    "    <li>a. Below 30 - F</li>\n",
    "    <li>b. 30 to 35 - D</li>\n",
    "    <li>c. 35 to 40 - C</li>\n",
    "    <li>Grading should follow hstu grading structure</li>\n",
    "</ul>"
   ]
  },
  {
   "cell_type": "code",
   "execution_count": 33,
   "id": "coordinated-story",
   "metadata": {},
   "outputs": [
    {
     "name": "stdout",
     "output_type": "stream",
     "text": [
      "Enter marks: 37\n",
      "Your grade is C\n"
     ]
    }
   ],
   "source": [
    "mark = int(input(\"Enter marks: \"))\n",
    "if mark <= 30:\n",
    "    print('Your grade is F')\n",
    "elif mark >= 30 and mark <= 35:\n",
    "    print('Your grade is D')\n",
    "elif mark >= 35 and mark <= 40:\n",
    "    print('Your grade is C')"
   ]
  },
  {
   "cell_type": "code",
   "execution_count": null,
   "id": "worth-adult",
   "metadata": {},
   "outputs": [],
   "source": []
  }
 ],
 "metadata": {
  "kernelspec": {
   "display_name": "Python 3",
   "language": "python",
   "name": "python3"
  },
  "language_info": {
   "codemirror_mode": {
    "name": "ipython",
    "version": 3
   },
   "file_extension": ".py",
   "mimetype": "text/x-python",
   "name": "python",
   "nbconvert_exporter": "python",
   "pygments_lexer": "ipython3",
   "version": "3.9.2"
  }
 },
 "nbformat": 4,
 "nbformat_minor": 5
}
